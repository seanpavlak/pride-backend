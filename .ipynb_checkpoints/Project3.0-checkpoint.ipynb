{
 "cells": [
  {
   "cell_type": "code",
   "execution_count": 2,
   "metadata": {},
   "outputs": [],
   "source": [
    "import matplotlib.pyplot as plt\n",
    "import numpy as np\n",
    "import math\n",
    "import time\n",
    "import random\n",
    "from phe import paillier\n",
    "from decimal import *\n",
    "getcontext().prec = 6"
   ]
  },
  {
   "cell_type": "code",
   "execution_count": 3,
   "metadata": {
    "collapsed": true
   },
   "outputs": [],
   "source": [
    "data_Alice = [ [3, 1.5, 1.57],\n",
    "             [2,  1 , -1.57],\n",
    "             [4, 1.5, 1.57],\n",
    "             [2.5, 1,   -1.57],\n",
    "             [3.5, 0.5,1.57],\n",
    "             [2, 0.5, -1.57],\n",
    "             [5.5,1.2,1.57],\n",
    "             [2.7,1,-1.57],\n",
    "            ]\n",
    "\n",
    "data_Bob = [ [3.1, 1.5, 1.57],\n",
    "             [2.1,  1 , -1.57],\n",
    "             [4.2, 1.5, 1.57],\n",
    "             [2.8, 1,   -1.57],\n",
    "             [3.5, 0.5,1.57],\n",
    "             [2, 0.5, -1.57],\n",
    "             [5.5,1.2,1.57],\n",
    "             [1.02,1,-1.57],\n",
    "            ]\n",
    "data_test = [ [3.3, 1.75, 1.57],\n",
    "             [2.045,  0.89 , -1.57],\n",
    "             [4.4, 1.745, 1.57],\n",
    "             \n",
    "            ]"
   ]
  },
  {
   "cell_type": "code",
   "execution_count": 4,
   "metadata": {
    "collapsed": true
   },
   "outputs": [],
   "source": [
    "def timeCounter():\n",
    "    time0 = time.perf_counter()\n",
    "    yield\n",
    "    print('[elapsed time: %.3f s]' % (time.perf_counter() - time0))"
   ]
  },
  {
   "cell_type": "code",
   "execution_count": 5,
   "metadata": {
    "collapsed": true
   },
   "outputs": [],
   "source": [
    "class Alice:\n",
    "\n",
    "    costs = []\n",
    "    \n",
    "    # Constructor : weights , bias and learning rate\n",
    "    def __init__(self,w1=0.3,w2=0.3,b=0.3,alpha=0.5):\n",
    "        self.w1 = w1\n",
    "        self.w2 = w2\n",
    "        self.b =  b\n",
    "        self.learningRate = alpha\n",
    "        self.generate_keypair()\n",
    "\n",
    "\n",
    "    def activation_atan(self,x):\n",
    "        with localcontext() as ctx:\n",
    "            ctx.prec=6\n",
    "            x = Decimal(x)\n",
    "            result = math.atan(x)\n",
    "        return result\n",
    "    \n",
    "    def activation_slope(self,x):\n",
    "        X = Decimal(x)\n",
    "        X = X*X\n",
    "        resultant = Decimal(1/(1+X))\n",
    "        return resultant\n",
    "\n",
    "    def training(self,data=data_Alice):\n",
    "        for i in range(1,50):\n",
    "            w1 = Decimal(self.w1)\n",
    "            w2 = Decimal(self.w2)\n",
    "            b =  Decimal(self.b)\n",
    "            l_rate = Decimal(self.learningRate)\n",
    "            random_index = np.random.randint(len(data))\n",
    "            point = data[random_index]\n",
    "\n",
    "            \n",
    "            z = (np.dot([w1,w2] , [ Decimal(point[0]),Decimal(point[1]) ])) + b\n",
    "\n",
    "            pred = self.activation_atan(z)\n",
    "            \n",
    "            target = point[2]\n",
    "\n",
    "            cost = np.square(pred - target)\n",
    "            self.costs.append(cost)\n",
    "\n",
    "            dcost_pred = Decimal(2 * (pred-target))\n",
    "            dpred_dz   = Decimal(self.activation_slope(z))\n",
    "            dz_dw1 = Decimal(point[0])\n",
    "            dz_dw2 = Decimal(point[1])\n",
    "            dz_db  = Decimal(1) \n",
    "     \n",
    "            dcost_dw1 = dcost_pred * dpred_dz * dz_dw1\n",
    "            dcost_dw2 = dcost_pred * dpred_dz * dz_dw2\n",
    "            dcost_db = dcost_pred * dpred_dz * dz_db\n",
    "\n",
    "            # Back propagation and weight/bias adjustments\n",
    "            t1 = Decimal(l_rate ) * Decimal(dcost_dw1)\n",
    "            t2 = Decimal(l_rate ) * Decimal(dcost_dw2)\n",
    "            t3 = Decimal(l_rate ) * Decimal(dcost_db)\n",
    "    \n",
    "            w1 = Decimal(w1) + Decimal(-t1)\n",
    "            w2 = Decimal(w2) + Decimal(-t2)\n",
    "            b  = Decimal(b) + Decimal(-t3)\n",
    "            self.w1 = w1\n",
    "            self.w2 = w2\n",
    "            self.b = b\n",
    "        \n",
    "\n",
    "    def encrypt_hyperparams(self):\n",
    "        with localcontext() as ctx:\n",
    "            ctx.prec=6\n",
    "            encry_w1 = self.public_key.encrypt(Decimal(self.w1),precision=7)\n",
    "            encry_w2 = self.public_key.encrypt(Decimal(self.w2),precision=7)\n",
    "            encry_b = self.public_key.encrypt(Decimal(self.b),precision=7)\n",
    "        return encry_w1,encry_w2,encry_b\n",
    "\n",
    "    def decrypt(self,x):\n",
    "        return self.private_key.decrypt(x)\n",
    "\n",
    "    def Bobs_training(self,encrypted_z,Enc_num1,Enc_num2,encrypted_target):\n",
    "        l_rate = Decimal(self.learningRate)\n",
    "        h =  1e-6 \n",
    "        for i in range(1,2):\n",
    "            w1 = Decimal(self.w1)\n",
    "            w2 = Decimal(self.w2)\n",
    "            b = Decimal(self.b)\n",
    "            z = self.decrypt(encrypted_z)\n",
    "            num1  = self.decrypt(Enc_num1)\n",
    "            num2 = self.decrypt(Enc_num2)\n",
    "                         \n",
    "            target = self.decrypt(encrypted_target)\n",
    "\n",
    "            # to mimic that i have a lot of data i will loop \n",
    "            #now lets refine the weights\n",
    "            pred = self.activation_atan(z)\n",
    "\n",
    "            cost = np.square(pred - target)\n",
    "            self.costs.append(cost)\n",
    "\n",
    "            dcost_pred = Decimal(2 * (pred-target))\n",
    "            dpred_dz   = Decimal(self.activation_slope(z))\n",
    "            #dz_dw1 = Decimal(31.2307692) # why this value , think a bit hint : mean\n",
    "            #dz_dw2 = Decimal(1.123076923) #\n",
    "            \n",
    "            dz_dw1 = Decimal( num1 - z) / Decimal(h)\n",
    "            dz_dw2 = Decimal( num2 - z ) / Decimal(h)\n",
    "            dz_db  = Decimal(1) \n",
    "     \n",
    "            dcost_dw1 = dcost_pred * dpred_dz * dz_dw1\n",
    "            dcost_dw2 = dcost_pred * dpred_dz * dz_dw2\n",
    "            dcost_db = dcost_pred * dpred_dz * dz_db\n",
    "\n",
    "            # Back propagation and weight/bias adjustments\n",
    "            t1 = Decimal(l_rate ) * Decimal(dcost_dw1)\n",
    "            t2 = Decimal(l_rate ) * Decimal(dcost_dw2)\n",
    "            t3 = Decimal(l_rate ) * Decimal(dcost_db)\n",
    "\n",
    "            w1 = Decimal(w1) + Decimal(-t1)\n",
    "            w2 = Decimal(w2) + Decimal(-t2)\n",
    "            b  = Decimal(b) + Decimal(-t3)\n",
    "\n",
    "            self.w1 = w1\n",
    "            self.w2 = w2\n",
    "            self.b = b\n",
    "                   \n",
    "    def plot_graph(self):\n",
    "        plt.plot(self.costs)\n",
    "        plt.title('Cost vs iterations')\n",
    "        #plt.set_xlabel('iterations')\n",
    "        #plt.set_ylabel('Cost ')\n",
    "        plt.show()\n",
    "        plt.close()\n",
    "        \n",
    "\n",
    "    def generate_keypair(self , n_length = 512):\n",
    "        self.public_key,self.private_key = paillier.generate_paillier_keypair(n_length=n_length)"
   ]
  },
  {
   "cell_type": "code",
   "execution_count": 6,
   "metadata": {
    "collapsed": true
   },
   "outputs": [],
   "source": [
    "class Bob:\n",
    "\n",
    "    def __init__(self,Alices_public_key, encrypted_w1 , encrypted_w2, encrypted_b):\n",
    "        self.public_key = Alices_public_key\n",
    "        self.encrypted_w1 = encrypted_w1         \n",
    "        self.encrypted_w2 = encrypted_w2\n",
    "        self.encrypted_b = encrypted_b\n",
    "\n",
    "    def z_calc(self,data=data_Bob):\n",
    "        w1 = self.encrypted_w1\n",
    "        w2 = self.encrypted_w2\n",
    "        b =  self.encrypted_b\n",
    "        h =  1e-6 \n",
    "        random_index = np.random.randint(len(data))\n",
    "        point = data[random_index]\n",
    "    \n",
    "        z = w1*point[0] + w2*point[1] + b\n",
    "        z_h_w1 = (w1+h)*point[0] + (w2)*point[1] + b + random.uniform(0.11,0.36)*h\n",
    "        num1 = z_h_w1          \n",
    "\n",
    "        z_h_w2 = (w1)*point[0] + (w2+h)*point[1] + b + random.uniform(0.11,0.36)*h\n",
    "        num2 = z_h_w2          \n",
    "\n",
    "        \n",
    "        target = point[2]\n",
    "        encrypted_target = self.public_key.encrypt(target)\n",
    "        return z , num1 , num2 , encrypted_target"
   ]
  },
  {
   "cell_type": "code",
   "execution_count": 7,
   "metadata": {
    "collapsed": true
   },
   "outputs": [],
   "source": [
    "a = Alice()\n",
    "a.training()"
   ]
  },
  {
   "cell_type": "code",
   "execution_count": 8,
   "metadata": {
    "collapsed": true
   },
   "outputs": [],
   "source": [
    "for i in range(1,50000):\n",
    "    W1,W2,B = a.encrypt_hyperparams()\n",
    "    b=Bob(a.public_key,W1,W2,B)\n",
    "    z , num1, num2 , et = b.z_calc()\n",
    "    a.Bobs_training( z , num1,num2,et )"
   ]
  },
  {
   "cell_type": "code",
   "execution_count": 9,
   "metadata": {},
   "outputs": [
    {
     "name": "stdout",
     "output_type": "stream",
     "text": [
      "[3.3, 1.75, 1.57]\n",
      "pred : 1.5253456081388523\n",
      "[2.045, 0.89, -1.57]\n",
      "pred : -1.4969167229939555\n",
      "[4.4, 1.745, 1.57]\n",
      "pred : 1.551966196419698\n"
     ]
    }
   ],
   "source": [
    "for i in range(len(data_test)):\n",
    "    point= data_test[i]\n",
    "    print(point)\n",
    "    z = Decimal(a.w1) * Decimal(point[0]) + Decimal(a.w2)*Decimal(point[0]) + a.b\n",
    "    pred  = (a.activation_atan(z))\n",
    "    print(\"pred : {}\".format(pred))"
   ]
  },
  {
   "cell_type": "code",
   "execution_count": 10,
   "metadata": {},
   "outputs": [
    {
     "data": {
      "image/png": "[encoded data removed]",
      "text/plain": [
       "<matplotlib.figure.Figure at 0x10edc3c88>"
      ]
     },
     "metadata": {},
     "output_type": "display_data"
    }
   ],
   "source": [
    "a.plot_graph()"
   ]
  },
  {
   "cell_type": "code",
   "execution_count": null,
   "metadata": {
    "collapsed": true
   },
   "outputs": [],
   "source": []
  }
 ],
 "metadata": {
  "kernelspec": {
   "display_name": "Python 3",
   "language": "python",
   "name": "python3"
  },
  "language_info": {
   "codemirror_mode": {
    "name": "ipython",
    "version": 3
   },
   "file_extension": ".py",
   "mimetype": "text/x-python",
   "name": "python",
   "nbconvert_exporter": "python",
   "pygments_lexer": "ipython3",
   "version": "3.6.3"
  }
 },
 "nbformat": 4,
 "nbformat_minor": 2
}
